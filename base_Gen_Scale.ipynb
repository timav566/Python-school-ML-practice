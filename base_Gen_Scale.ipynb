{
  "nbformat": 4,
  "nbformat_minor": 0,
  "metadata": {
    "colab": {
      "name": "base_Gen_Scale.ipynb",
      "provenance": [],
      "include_colab_link": true
    },
    "kernelspec": {
      "name": "python3",
      "display_name": "Python 3"
    },
    "accelerator": "GPU"
  },
  "cells": [
    {
      "cell_type": "markdown",
      "metadata": {
        "id": "view-in-github",
        "colab_type": "text"
      },
      "source": [
        "<a href=\"https://colab.research.google.com/github/timav566/Python-school-ML-practice/blob/main/base_Gen_Scale.ipynb\" target=\"_parent\"><img src=\"https://colab.research.google.com/assets/colab-badge.svg\" alt=\"Open In Colab\"/></a>"
      ]
    },
    {
      "cell_type": "code",
      "metadata": {
        "id": "yq9ckYba3jK1",
        "colab": {
          "base_uri": "https://localhost:8080/",
          "height": 269
        },
        "outputId": "9562c8ce-9bde-4fc6-95ea-c96ba684e355"
      },
      "source": [
        "!pip install catboost"
      ],
      "execution_count": null,
      "outputs": [
        {
          "output_type": "stream",
          "text": [
            "Requirement already satisfied: catboost in /usr/local/lib/python3.6/dist-packages (0.18.1)\n",
            "Requirement already satisfied: numpy>=1.16.0 in /usr/local/lib/python3.6/dist-packages (from catboost) (1.17.4)\n",
            "Requirement already satisfied: six in /usr/local/lib/python3.6/dist-packages (from catboost) (1.12.0)\n",
            "Requirement already satisfied: pandas>=0.24.0 in /usr/local/lib/python3.6/dist-packages (from catboost) (0.25.3)\n",
            "Requirement already satisfied: graphviz in /usr/local/lib/python3.6/dist-packages (from catboost) (0.10.1)\n",
            "Requirement already satisfied: matplotlib in /usr/local/lib/python3.6/dist-packages (from catboost) (3.1.1)\n",
            "Requirement already satisfied: scipy in /usr/local/lib/python3.6/dist-packages (from catboost) (1.3.2)\n",
            "Requirement already satisfied: plotly in /usr/local/lib/python3.6/dist-packages (from catboost) (4.1.1)\n",
            "Requirement already satisfied: pytz>=2017.2 in /usr/local/lib/python3.6/dist-packages (from pandas>=0.24.0->catboost) (2018.9)\n",
            "Requirement already satisfied: python-dateutil>=2.6.1 in /usr/local/lib/python3.6/dist-packages (from pandas>=0.24.0->catboost) (2.6.1)\n",
            "Requirement already satisfied: pyparsing!=2.0.4,!=2.1.2,!=2.1.6,>=2.0.1 in /usr/local/lib/python3.6/dist-packages (from matplotlib->catboost) (2.4.5)\n",
            "Requirement already satisfied: kiwisolver>=1.0.1 in /usr/local/lib/python3.6/dist-packages (from matplotlib->catboost) (1.1.0)\n",
            "Requirement already satisfied: cycler>=0.10 in /usr/local/lib/python3.6/dist-packages (from matplotlib->catboost) (0.10.0)\n",
            "Requirement already satisfied: retrying>=1.3.3 in /usr/local/lib/python3.6/dist-packages (from plotly->catboost) (1.3.3)\n",
            "Requirement already satisfied: setuptools in /usr/local/lib/python3.6/dist-packages (from kiwisolver>=1.0.1->matplotlib->catboost) (41.4.0)\n"
          ],
          "name": "stdout"
        }
      ]
    },
    {
      "cell_type": "code",
      "metadata": {
        "id": "R_3x3svSkTdc"
      },
      "source": [
        "import numpy as np\n",
        "import pandas as pd\n",
        "import random\n",
        "import matplotlib.pyplot as plt\n",
        "\n",
        "from sklearn.ensemble import RandomForestRegressor\n",
        "from sklearn.model_selection import train_test_split\n",
        "from catboost import CatBoostRegressor, Pool\n",
        "from operator import itemgetter, attrgetter\n",
        "import matplotlib.pyplot as plt\n",
        "%matplotlib inline"
      ],
      "execution_count": null,
      "outputs": []
    },
    {
      "cell_type": "code",
      "metadata": {
        "id": "VfNv38dB3tJ3"
      },
      "source": [
        "from google.colab import files\n",
        "uploaded = files.upload()"
      ],
      "execution_count": null,
      "outputs": []
    },
    {
      "cell_type": "code",
      "metadata": {
        "id": "9UINTfGoTV0A"
      },
      "source": [
        "X_train = (pd.read_csv('h_10_X_train.csv')).values\n",
        "X_test = (pd.read_csv('h_10_X_test.csv')).values\n",
        "X_val = (pd.read_csv('h_10_X_val.csv')).values\n",
        "Y_train = (pd.read_csv('h_10_Y_train.csv')['0']).values\n",
        "Y_test = (pd.read_csv('h_10_Y_test.csv')['0']).values\n",
        "Y_val = (pd.read_csv('h_10_Y_val.csv')['0']).values"
      ],
      "execution_count": null,
      "outputs": []
    },
    {
      "cell_type": "code",
      "metadata": {
        "id": "zCPpB1dnLgp-",
        "colab": {
          "base_uri": "https://localhost:8080/",
          "height": 34
        },
        "outputId": "510cf850-0de0-4c25-8a70-dc1d18c4bf32"
      },
      "source": [
        "model = CatBoostRegressor(iterations = 100)\n",
        "model.fit(X_train, Y_train, verbose = False)"
      ],
      "execution_count": null,
      "outputs": [
        {
          "output_type": "execute_result",
          "data": {
            "text/plain": [
              "<catboost.core.CatBoostRegressor at 0x7f6b00070470>"
            ]
          },
          "metadata": {
            "tags": []
          },
          "execution_count": 48
        }
      ]
    },
    {
      "cell_type": "code",
      "metadata": {
        "id": "r9BzRmYMg5nE",
        "colab": {
          "base_uri": "https://localhost:8080/",
          "height": 34
        },
        "outputId": "619f79ee-6143-49d6-d20e-51de6804ee5f"
      },
      "source": [
        "model.score(X_val, Y_val)"
      ],
      "execution_count": null,
      "outputs": [
        {
          "output_type": "execute_result",
          "data": {
            "text/plain": [
              "0.7809819287627094"
            ]
          },
          "metadata": {
            "tags": []
          },
          "execution_count": 49
        }
      ]
    },
    {
      "cell_type": "code",
      "metadata": {
        "id": "nMNnFKIWoR0C"
      },
      "source": [
        "class individual:\n",
        "  \n",
        "  def __init__(self, features, score = 0, val_score = 0):\n",
        "    self.features = features\n",
        "    self.score = score\n",
        "    self.val_score = val_score\n",
        "    \n",
        "  def get_score(self, X_train, Y_train, X_test, Y_test, X_val, Y_val, iterations = 100):\n",
        "    model = CatBoostRegressor(iterations)\n",
        "    dfX = pd.DataFrame(X_train)\n",
        "    dfX1 = pd.DataFrame(X_test)\n",
        "    dfX2 = pd.DataFrame(X_val)\n",
        "    for i in range (len(self.features)):\n",
        "      if (self.features[i] == 0):\n",
        "          del dfX[i]\n",
        "          del dfX1[i]\n",
        "          del dfX2[i]\n",
        "    X_train_t = dfX.values\n",
        "    X_test_t = dfX1.values\n",
        "    X_val_t = dfX2.values\n",
        "    model.fit(X_train_t, Y_train, verbose = False)\n",
        "    self.score = model.score(X_test_t, Y_test)\n",
        "    self.val_score = model.score(X_val_t, Y_val)\n",
        "    \n",
        "  def mutation(self, probability):\n",
        "    for i in range(len(self.features)):\n",
        "      if (random.randint(0, 100) < probability):\n",
        "        self.features[i] = abs(self.features[i] - 1)\n",
        "  \n",
        "  def create_new_feature(self):\n",
        "    if (random.randint(0,1) == 0):\n",
        "      self.features.append(0)\n",
        "    else:\n",
        "      self.features.append(1)\n",
        "      \n",
        "  def delete_feature(self, i):\n",
        "    self.features.pop(i)         \n",
        "  "
      ],
      "execution_count": null,
      "outputs": []
    },
    {
      "cell_type": "code",
      "metadata": {
        "id": "tvPMaM8OhXeA"
      },
      "source": [
        "class Dataset:\n",
        "\n",
        "  def __init__ (self, X_train, Y_train, X_test, Y_test, X_val, Y_val):\n",
        "    self.X_train = X_train\n",
        "    self.Y_train = Y_train\n",
        "    self.X_test = X_test\n",
        "    self.Y_test = Y_test\n",
        "    self.X_val = X_val\n",
        "    self.Y_val = Y_val\n",
        "  \n",
        "  def update_new_feature(self, fea_a, fea_b):\n",
        "    dfX1 = pd.DataFrame(self.X_train) \n",
        "    dfX1['123'] = (dfX1[fea_a] + dfX1[fea_b])\n",
        "    self.X_train = dfX1.values\n",
        "    dfX2 = pd.DataFrame(self.X_test) \n",
        "    dfX2['123'] = (dfX2[fea_a] + dfX2[fea_b])\n",
        "    self.X_test = dfX2.values\n",
        "    dfX3 = pd.DataFrame(self.X_val) \n",
        "    dfX3['123'] = (dfX3[fea_a] + dfX3[fea_b])\n",
        "    self.X_val = dfX3.values\n",
        "    \n",
        "    \n",
        "  def delete_feature(self, num):\n",
        "    dfX = pd.DataFrame(self.X_train)\n",
        "    dfX.drop(dfX.loc[:,[num]], axis = 1, inplace = True)\n",
        "    self.X_train = dfX.values \n",
        "    dfX1 = pd.DataFrame(self.X_test)\n",
        "    dfX1.drop(dfX1.loc[:,[num]], axis = 1, inplace = True)\n",
        "    self.X_test = dfX1.values\n",
        "    dfX2 = pd.DataFrame(self.X_val)\n",
        "    dfX2.drop(dfX2.loc[:,[num]], axis = 1, inplace = True)\n",
        "    self.X_val = dfX2.values\n",
        "    "
      ],
      "execution_count": null,
      "outputs": []
    },
    {
      "cell_type": "code",
      "metadata": {
        "id": "G1J-BmLB2IBT"
      },
      "source": [
        "def check_feature(current_set, num):\n",
        "  flag = True\n",
        "  for i in current_set:\n",
        "    if (i.features[num] == 1):\n",
        "      flag = False\n",
        "      break\n",
        "  return flag  "
      ],
      "execution_count": null,
      "outputs": []
    },
    {
      "cell_type": "code",
      "metadata": {
        "id": "kr5S5PioAwT0"
      },
      "source": [
        "num_of_individs = 12\n",
        "best_indiv = [[0 for i in range(len(X_train[0]))] for j in range(num_of_individs)]\n",
        "for i in range(num_of_individs):\n",
        "  for j in range(len(X_train[0])):\n",
        "    best_indiv[i][j] = 1"
      ],
      "execution_count": null,
      "outputs": []
    },
    {
      "cell_type": "code",
      "metadata": {
        "id": "emVmJ70Nt0TW"
      },
      "source": [
        "ds = Dataset(X_train, Y_train, X_test, Y_test, X_val, Y_val)\n",
        "current_set = []\n",
        "for i in range(num_of_individs):\n",
        "  current_set.append(individual(best_indiv[i]))\n",
        "  current_set[i].get_score(ds.X_train, ds.Y_train, ds.X_test, ds.Y_test, ds.X_val, ds.Y_val)\n",
        "current_set = sorted(current_set, key=lambda student: student.score)"
      ],
      "execution_count": null,
      "outputs": []
    },
    {
      "cell_type": "code",
      "metadata": {
        "id": "WcyzoogHindz",
        "colab": {
          "base_uri": "https://localhost:8080/",
          "height": 218
        },
        "outputId": "85d3b8d9-c29b-48fc-e3c9-6524cfbf0728"
      },
      "source": [
        "for i in current_set:\n",
        "  print(i.val_score)"
      ],
      "execution_count": null,
      "outputs": [
        {
          "output_type": "stream",
          "text": [
            "0.7809819287627094\n",
            "0.7809819287627094\n",
            "0.7809819287627094\n",
            "0.7809819287627094\n",
            "0.7809819287627094\n",
            "0.7809819287627094\n",
            "0.7809819287627094\n",
            "0.7809819287627094\n",
            "0.7809819287627094\n",
            "0.7809819287627094\n",
            "0.7809819287627094\n",
            "0.7809819287627094\n"
          ],
          "name": "stdout"
        }
      ]
    },
    {
      "cell_type": "code",
      "metadata": {
        "id": "B07BvuoGdgV2"
      },
      "source": [
        "ans_features = []\n",
        "ans_score = []\n",
        "ans_val_score = []"
      ],
      "execution_count": null,
      "outputs": []
    },
    {
      "cell_type": "code",
      "metadata": {
        "id": "Wi4UC7TVSNeu"
      },
      "source": [
        "best_ds = Dataset(X_train, Y_train, X_test, Y_test, X_val, Y_val)\n",
        "best_features = []\n",
        "best_score = 0"
      ],
      "execution_count": null,
      "outputs": []
    },
    {
      "cell_type": "code",
      "metadata": {
        "id": "mlDmjj1pJwor",
        "colab": {
          "base_uri": "https://localhost:8080/",
          "height": 1000
        },
        "outputId": "10949d49-423c-4b00-debb-62d800d36ec6"
      },
      "source": [
        "num_processes = 50\n",
        "probability = 3\n",
        "num_new_fea = 2\n",
        "d = 0\n",
        "base = 10\n",
        "for s in range(num_processes):\n",
        "  if (s % 5 == 0):\n",
        "    d = 0\n",
        "    for i in range(len(ds.X_train[0])):\n",
        "      if (check_feature(current_set, i - d) == True):\n",
        "        for j in range(len(current_set)):\n",
        "          current_set[j].delete_feature(i - d)\n",
        "        ds.delete_feature(i - d)\n",
        "        d += 1\n",
        "  test_generation = []\n",
        "  for i in range(len(current_set)):\n",
        "    test_individual = individual(current_set[i].features.copy())\n",
        "    test_generation.append(test_individual)\n",
        "  for i in range(num_of_individs):\n",
        "    for j in range(i + 1, num_of_individs):\n",
        "      new_indiv_features = []\n",
        "      for k in range(len(current_set[0].features)):\n",
        "        if (random.randint(0, 1) == 0):\n",
        "          new_indiv_features.append(current_set[i].features[k])\n",
        "        else:\n",
        "          new_indiv_features.append(current_set[j].features[k])\n",
        "      test_individual = individual(new_indiv_features)\n",
        "      test_generation.append(test_individual)\n",
        "  for i in test_generation:\n",
        "    i.mutation(probability)\n",
        "  for i in range(len(current_set)):\n",
        "    test_individual = individual(current_set[i].features)\n",
        "    test_generation.append(test_individual)\n",
        "  for i in range(num_new_fea):\n",
        "    a = random.randint(0, base - 1)\n",
        "    b = random.randint(0, base - 1)\n",
        "    ds.update_new_feature(a, b)\n",
        "    for g in test_generation:\n",
        "      g.create_new_feature()\n",
        "  for i in test_generation:\n",
        "    i.get_score(ds.X_train, ds.Y_train, ds.X_test, ds.Y_test, ds.X_val, ds.Y_val)\n",
        "  test_generation = sorted(test_generation, key=lambda student: student.score)  \n",
        "  for i in range(num_of_individs):\n",
        "    current_set[i] = test_generation[len(test_generation) - i - 1]\n",
        "  ans_features.append(current_set[0].features.count(1))\n",
        "  ans_score.append(current_set[0].score)\n",
        "  ans_val_score.append(current_set[0].val_score)\n",
        "  print(current_set[0].features.count(1))\n",
        "  print(len(current_set[0].features))\n",
        "  print(current_set[0].score)\n",
        "  print(current_set[0].val_score)\n",
        "  if (current_set[0].val_score > best_score):\n",
        "    best_score = current_set[0].val_score\n",
        "    best_features = current_set[0].features\n",
        "    best_ds = ds"
      ],
      "execution_count": null,
      "outputs": [
        {
          "output_type": "stream",
          "text": [
            "9\n",
            "12\n",
            "0.7781851663761727\n",
            "0.764441353805615\n",
            "11\n",
            "14\n",
            "0.7842868062364581\n",
            "0.7825894223562407\n",
            "11\n",
            "16\n",
            "0.7873573739443624\n",
            "0.7864635573297925\n",
            "11\n",
            "18\n",
            "0.7873573739443624\n",
            "0.7864635573297925\n",
            "11\n",
            "20\n",
            "0.7948751800356308\n",
            "0.7875578824915399\n",
            "11\n",
            "17\n",
            "0.8006659131359855\n",
            "0.785496034412118\n",
            "11\n",
            "19\n",
            "0.8006659131359855\n",
            "0.785496034412118\n",
            "11\n",
            "21\n",
            "0.8008133722457959\n",
            "0.8031807542194487\n",
            "13\n",
            "23\n",
            "0.8036210886527995\n",
            "0.7939080858506584\n",
            "13\n",
            "25\n",
            "0.8075024983748869\n",
            "0.7894007340691516\n",
            "13\n",
            "21\n",
            "0.8083413915619108\n",
            "0.7861931732297327\n",
            "13\n",
            "23\n",
            "0.8083413915619108\n",
            "0.7861931732297327\n",
            "13\n",
            "25\n",
            "0.8083413915619108\n",
            "0.7861931732297327\n",
            "13\n",
            "27\n",
            "0.8083413915619108\n",
            "0.7861931732297327\n",
            "13\n",
            "29\n",
            "0.8083413915619108\n",
            "0.7861931732297327\n",
            "13\n",
            "24\n",
            "0.8083413915619108\n",
            "0.7861931732297327\n",
            "16\n",
            "26\n",
            "0.8082286285561411\n",
            "0.7886696116295124\n",
            "18\n",
            "28\n",
            "0.8089947397015459\n",
            "0.7994534741821178\n",
            "16\n",
            "30\n",
            "0.812840815471557\n",
            "0.7879114690402562\n",
            "16\n",
            "32\n",
            "0.812840815471557\n",
            "0.7879114690402562\n",
            "23\n",
            "32\n",
            "0.8136661294735621\n",
            "0.7977242455595581\n",
            "23\n",
            "34\n",
            "0.8136661294735621\n",
            "0.7977242455595581\n",
            "24\n",
            "36\n",
            "0.8141079740810859\n",
            "0.7961647793402975\n",
            "24\n",
            "38\n",
            "0.8141079740810859\n",
            "0.7961647793402975\n",
            "24\n",
            "40\n",
            "0.813893162584376\n",
            "0.7963681708392654\n",
            "23\n",
            "40\n",
            "0.8151541770067144\n",
            "0.7928393584184821\n",
            "25\n",
            "42\n",
            "0.8150135067221806\n",
            "0.7977913838694487\n",
            "23\n",
            "44\n",
            "0.8150808588135408\n",
            "0.791152626270843\n",
            "26\n",
            "46\n",
            "0.815929253587372\n",
            "0.8029185954840617\n",
            "25\n",
            "48\n",
            "0.8180116194966296\n",
            "0.8071563899794966\n",
            "28\n",
            "47\n",
            "0.8169118970197615\n",
            "0.7982433895003995\n",
            "28\n",
            "49\n",
            "0.8169118970197615\n",
            "0.7982433895003995\n",
            "28\n",
            "51\n",
            "0.8169118970197615\n",
            "0.7982433895003995\n",
            "27\n",
            "53\n",
            "0.8184935571992945\n",
            "0.8056818569989201\n",
            "25\n",
            "55\n",
            "0.8213899624181572\n",
            "0.808324231565213\n",
            "30\n",
            "51\n",
            "0.8227763282075173\n",
            "0.8075887169266066\n",
            "27\n",
            "53\n",
            "0.8212999067485756\n",
            "0.8060331581661926\n",
            "33\n",
            "55\n",
            "0.8192913317502198\n",
            "0.7954339681718288\n",
            "27\n",
            "57\n",
            "0.818897329674925\n",
            "0.8020248322920743\n",
            "30\n",
            "59\n",
            "0.8204259643721479\n",
            "0.8032265234922509\n",
            "26\n",
            "52\n",
            "0.8208708796650835\n",
            "0.8072515665991009\n",
            "30\n",
            "54\n",
            "0.8221211754174224\n",
            "0.7993686760743929\n",
            "31\n",
            "56\n",
            "0.8228126168893459\n",
            "0.8047040611322336\n",
            "31\n",
            "58\n",
            "0.8219090950095713\n",
            "0.8094671618079132\n",
            "33\n",
            "60\n",
            "0.8213435768903099\n",
            "0.8034321500240933\n",
            "34\n",
            "54\n",
            "0.8221586702944448\n",
            "0.8009861166229865\n",
            "35\n",
            "56\n",
            "0.8204385006599519\n",
            "0.807212268592278\n",
            "35\n",
            "58\n",
            "0.8204385006599519\n",
            "0.807212268592278\n",
            "39\n",
            "60\n",
            "0.8224525799642479\n",
            "0.8019784200823711\n",
            "36\n",
            "62\n",
            "0.8204496043076224\n",
            "0.8042107045315032\n"
          ],
          "name": "stdout"
        }
      ]
    },
    {
      "cell_type": "code",
      "metadata": {
        "id": "EumbxBqdkKYk",
        "colab": {
          "base_uri": "https://localhost:8080/",
          "height": 295
        },
        "outputId": "8f2e4606-6eb8-492c-a238-5b59eeb37ee7"
      },
      "source": [
        "ans_processes = []\n",
        "for i in range(1, len(ans_score) + 1):\n",
        "  ans_processes.append(i)\n",
        "plt.plot(ans_processes, ans_score, 'r')\n",
        "plt.xlabel('Number of processes')\n",
        "plt.ylabel('Accuracy')\n",
        "plt.title('Validation data')\n",
        "plt.show()"
      ],
      "execution_count": null,
      "outputs": [
        {
          "output_type": "display_data",
          "data": {
            "image/png": "[encoded data removed]",
            "text/plain": [
              "<Figure size 432x288 with 1 Axes>"
            ]
          },
          "metadata": {
            "tags": []
          }
        }
      ]
    },
    {
      "cell_type": "code",
      "metadata": {
        "id": "jaVptr3qxXFS",
        "colab": {
          "base_uri": "https://localhost:8080/",
          "height": 295
        },
        "outputId": "bbe5e8c0-712b-4f72-99b2-d08089fcd6d0"
      },
      "source": [
        "ans_processes = []\n",
        "for i in range(1, len(ans_score) + 1):\n",
        "  ans_processes.append(i)\n",
        "plt.plot(ans_processes, ans_val_score, 'r')\n",
        "plt.xlabel('Number of processes')\n",
        "plt.ylabel('Accuracy')\n",
        "plt.title('Test data')\n",
        "plt.show()"
      ],
      "execution_count": null,
      "outputs": [
        {
          "output_type": "display_data",
          "data": {
            "image/png": "[encoded data removed]",
            "text/plain": [
              "<Figure size 432x288 with 1 Axes>"
            ]
          },
          "metadata": {
            "tags": []
          }
        }
      ]
    },
    {
      "cell_type": "code",
      "metadata": {
        "id": "TmGXVjF6bEcd",
        "colab": {
          "base_uri": "https://localhost:8080/",
          "height": 34
        },
        "outputId": "8d59c3bf-ddce-409b-a9fc-3745365a7e53"
      },
      "source": [
        "max(ans_val_score)"
      ],
      "execution_count": null,
      "outputs": [
        {
          "output_type": "execute_result",
          "data": {
            "text/plain": [
              "0.8094671618079132"
            ]
          },
          "metadata": {
            "tags": []
          },
          "execution_count": 72
        }
      ]
    }
  ]
}